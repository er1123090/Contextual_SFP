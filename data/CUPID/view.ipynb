{
 "cells": [
  {
   "cell_type": "code",
   "execution_count": 14,
   "id": "33589e62",
   "metadata": {},
   "outputs": [],
   "source": [
    "import pandas as pd\n",
    "def read_parquet_file(file_path):\n",
    "    table = pd.read_parquet(file_path)\n",
    "    return table\n"
   ]
  },
  {
   "cell_type": "code",
   "execution_count": 23,
   "id": "0e62f237",
   "metadata": {},
   "outputs": [
    {
     "name": "stdout",
     "output_type": "stream",
     "text": [
      "<class 'pandas.core.frame.DataFrame'>\n",
      "RangeIndex: 756 entries, 0 to 755\n",
      "Data columns (total 7 columns):\n",
      " #   Column                         Non-Null Count  Dtype \n",
      "---  ------                         --------------  ----- \n",
      " 0   persona_id                     756 non-null    object\n",
      " 1   instance_type                  756 non-null    object\n",
      " 2   current_request                756 non-null    object\n",
      " 3   current_context_factor         756 non-null    object\n",
      " 4   current_contextual_preference  756 non-null    object\n",
      " 5   current_checklist              756 non-null    object\n",
      " 6   prior_interactions             756 non-null    object\n",
      "dtypes: object(7)\n",
      "memory usage: 41.5+ KB\n",
      "None\n",
      "====================================================================================================\n",
      "Index(['persona_id', 'instance_type', 'current_request',\n",
      "       'current_context_factor', 'current_contextual_preference',\n",
      "       'current_checklist', 'prior_interactions'],\n",
      "      dtype='object')\n",
      "====================================================================================================\n",
      "                          persona_id instance_type  \\\n",
      "0          148+real_estate_developer   contrastive   \n",
      "1          114+research_psychologist      changing   \n",
      "2                  1+creative_writer    consistent   \n",
      "3  8+student_and_beginning_guitarist    consistent   \n",
      "4                      107+geologist    consistent   \n",
      "\n",
      "                                     current_request  \\\n",
      "0  Help me create a presentation for the Metropol...   \n",
      "1  Help me write a review for this manuscript. He...   \n",
      "2  Help me draft the opening section of my keynot...   \n",
      "3  I need exercises for the Campus Jazz Ensemble'...   \n",
      "4  Help me plan next week's 6AM pre-expedition br...   \n",
      "\n",
      "         current_context_factor  \\\n",
      "0   Metropolitan Symphony Board   \n",
      "1    Journal Manuscript Reviews   \n",
      "2  Victorian Literature Society   \n",
      "3          Campus Jazz Ensemble   \n",
      "4  6AM Pre-Expedition Briefings   \n",
      "\n",
      "                       current_contextual_preference  \\\n",
      "0  All communications must use classical music te...   \n",
      "1  Reviews should emphasize theoretical contribut...   \n",
      "2  Arguments must be structured with primary sour...   \n",
      "3  Musical exercises must emphasize spontaneous v...   \n",
      "4  Updates must be delivered in exactly 30-second...   \n",
      "\n",
      "                                   current_checklist  \\\n",
      "0  [Does the communication consistently use class...   \n",
      "1  [Does the review place primary emphasis on the...   \n",
      "2  [Does the argument include primary source evid...   \n",
      "3  [Does the musical exercise emphasize spontaneo...   \n",
      "4  [Is each update segment exactly 30 seconds in ...   \n",
      "\n",
      "                                  prior_interactions  \n",
      "0  [{'context_factor': 'Metropolitan Symphony Boa...  \n",
      "1  [{'context_factor': 'Journal Manuscript Review...  \n",
      "2  [{'context_factor': 'Literary Review Manuscrip...  \n",
      "3  [{'context_factor': 'Campus Jazz Ensemble', 'c...  \n",
      "4  [{'context_factor': 'McMurdo Research Station'...  \n"
     ]
    }
   ],
   "source": [
    "file_path = 'test.parquet'\n",
    "df = read_parquet_file(file_path)\n",
    "print(df.info())\n",
    "print(\"=\"*100)\n",
    "print(df.columns)\n",
    "print(\"=\"*100)\n",
    "print(df.head())\n",
    "\n"
   ]
  },
  {
   "cell_type": "code",
   "execution_count": 26,
   "id": "dba44176",
   "metadata": {},
   "outputs": [
    {
     "name": "stdout",
     "output_type": "stream",
     "text": [
      "                  persona_id instance_type  \\\n",
      "0  148+real_estate_developer   contrastive   \n",
      "\n",
      "                                     current_request  \\\n",
      "0  Help me create a presentation for the Metropol...   \n",
      "\n",
      "        current_context_factor  \\\n",
      "0  Metropolitan Symphony Board   \n",
      "\n",
      "                       current_contextual_preference  \\\n",
      "0  All communications must use classical music te...   \n",
      "\n",
      "                                   current_checklist  \\\n",
      "0  [Does the communication consistently use class...   \n",
      "\n",
      "                                  prior_interactions  \n",
      "0  [{'context_factor': 'Metropolitan Symphony Boa...  \n"
     ]
    }
   ],
   "source": [
    "print(df[0:1])"
   ]
  },
  {
   "cell_type": "code",
   "execution_count": null,
   "id": "a77be769",
   "metadata": {},
   "outputs": [],
   "source": []
  }
 ],
 "metadata": {
  "kernelspec": {
   "display_name": "base",
   "language": "python",
   "name": "python3"
  },
  "language_info": {
   "codemirror_mode": {
    "name": "ipython",
    "version": 3
   },
   "file_extension": ".py",
   "mimetype": "text/x-python",
   "name": "python",
   "nbconvert_exporter": "python",
   "pygments_lexer": "ipython3",
   "version": "3.10.16"
  }
 },
 "nbformat": 4,
 "nbformat_minor": 5
}
